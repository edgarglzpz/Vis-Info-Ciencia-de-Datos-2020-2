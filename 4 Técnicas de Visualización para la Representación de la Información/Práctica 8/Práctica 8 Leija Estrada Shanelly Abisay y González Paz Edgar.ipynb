{
 "cells": [
  {
   "cell_type": "code",
   "execution_count": 1,
   "metadata": {},
   "outputs": [],
   "source": [
    "import pandas as pd\n",
    "import numpy as np"
   ]
  },
  {
   "cell_type": "code",
   "execution_count": 2,
   "metadata": {},
   "outputs": [],
   "source": [
    "from bokeh.io import output_file, show, curdoc\n",
    "from bokeh.plotting import figure, show\n",
    "from bokeh.layouts import gridplot, row\n",
    "from bokeh.models import ColumnDataSource, Panel, Tabs"
   ]
  },
  {
   "cell_type": "code",
   "execution_count": 5,
   "metadata": {},
   "outputs": [
    {
     "data": {
      "text/html": [
       "<div>\n",
       "<style scoped>\n",
       "    .dataframe tbody tr th:only-of-type {\n",
       "        vertical-align: middle;\n",
       "    }\n",
       "\n",
       "    .dataframe tbody tr th {\n",
       "        vertical-align: top;\n",
       "    }\n",
       "\n",
       "    .dataframe thead th {\n",
       "        text-align: right;\n",
       "    }\n",
       "</style>\n",
       "<table border=\"1\" class=\"dataframe\">\n",
       "  <thead>\n",
       "    <tr style=\"text-align: right;\">\n",
       "      <th></th>\n",
       "      <th>Fecha</th>\n",
       "      <th>España</th>\n",
       "      <th>USA</th>\n",
       "      <th>Brasil</th>\n",
       "      <th>México</th>\n",
       "      <th>Global</th>\n",
       "      <th>WHO Situation Reports</th>\n",
       "      <th>Unnamed: 7</th>\n",
       "    </tr>\n",
       "  </thead>\n",
       "  <tbody>\n",
       "    <tr>\n",
       "      <th>0</th>\n",
       "      <td>2020-01-21</td>\n",
       "      <td>NaN</td>\n",
       "      <td>NaN</td>\n",
       "      <td>NaN</td>\n",
       "      <td>NaN</td>\n",
       "      <td>282.0</td>\n",
       "      <td>Fuente:</td>\n",
       "      <td>[1]</td>\n",
       "    </tr>\n",
       "    <tr>\n",
       "      <th>1</th>\n",
       "      <td>2020-01-22</td>\n",
       "      <td>NaN</td>\n",
       "      <td>NaN</td>\n",
       "      <td>NaN</td>\n",
       "      <td>NaN</td>\n",
       "      <td>314.0</td>\n",
       "      <td>NaN</td>\n",
       "      <td>“Novel Coronavirus (2019-nCoV) situation repor...</td>\n",
       "    </tr>\n",
       "    <tr>\n",
       "      <th>2</th>\n",
       "      <td>2020-01-23</td>\n",
       "      <td>NaN</td>\n",
       "      <td>1.0</td>\n",
       "      <td>NaN</td>\n",
       "      <td>NaN</td>\n",
       "      <td>581.0</td>\n",
       "      <td>NaN</td>\n",
       "      <td>NaN</td>\n",
       "    </tr>\n",
       "    <tr>\n",
       "      <th>3</th>\n",
       "      <td>2020-01-24</td>\n",
       "      <td>NaN</td>\n",
       "      <td>1.0</td>\n",
       "      <td>NaN</td>\n",
       "      <td>NaN</td>\n",
       "      <td>846.0</td>\n",
       "      <td>NaN</td>\n",
       "      <td>NaN</td>\n",
       "    </tr>\n",
       "    <tr>\n",
       "      <th>4</th>\n",
       "      <td>2020-01-25</td>\n",
       "      <td>NaN</td>\n",
       "      <td>2.0</td>\n",
       "      <td>NaN</td>\n",
       "      <td>NaN</td>\n",
       "      <td>1320.0</td>\n",
       "      <td>NaN</td>\n",
       "      <td>NaN</td>\n",
       "    </tr>\n",
       "  </tbody>\n",
       "</table>\n",
       "</div>"
      ],
      "text/plain": [
       "       Fecha  España  USA  Brasil  México  Global WHO Situation Reports  \\\n",
       "0 2020-01-21     NaN  NaN     NaN     NaN   282.0               Fuente:   \n",
       "1 2020-01-22     NaN  NaN     NaN     NaN   314.0                   NaN   \n",
       "2 2020-01-23     NaN  1.0     NaN     NaN   581.0                   NaN   \n",
       "3 2020-01-24     NaN  1.0     NaN     NaN   846.0                   NaN   \n",
       "4 2020-01-25     NaN  2.0     NaN     NaN  1320.0                   NaN   \n",
       "\n",
       "                                          Unnamed: 7  \n",
       "0                                                [1]  \n",
       "1  “Novel Coronavirus (2019-nCoV) situation repor...  \n",
       "2                                                NaN  \n",
       "3                                                NaN  \n",
       "4                                                NaN  "
      ]
     },
     "execution_count": 5,
     "metadata": {},
     "output_type": "execute_result"
    }
   ],
   "source": [
    "dataframe = pd.read_excel('coronavirus.xlsx')\n",
    "dataframe.head()"
   ]
  },
  {
   "cell_type": "markdown",
   "metadata": {},
   "source": [
    "Extraemos el número de infectados por país en un arreglo correspondiente."
   ]
  },
  {
   "cell_type": "code",
   "execution_count": 6,
   "metadata": {},
   "outputs": [],
   "source": [
    "españa = dataframe['España'].values.tolist()\n",
    "usa = dataframe['USA'].values.tolist()\n",
    "brasil = dataframe['Brasil'].values.tolist()\n",
    "mexico = dataframe['México'].values.tolist()\n",
    "glob = dataframe['Global'].values.tolist()"
   ]
  },
  {
   "cell_type": "markdown",
   "metadata": {},
   "source": [
    "Convertimos el formato de los arreglos en carácter con la final de usarlos como etiquetas."
   ]
  },
  {
   "cell_type": "code",
   "execution_count": 7,
   "metadata": {},
   "outputs": [],
   "source": [
    "es_texto = np.array(españa).astype(str) \n",
    "usa_texto = np.array(usa).astype(str) \n",
    "brasil_texto = np.array(brasil).astype(str) \n",
    "mexico_texto = np.array(mexico).astype(str) \n",
    "glob_texto = np.array(glob).astype(str) "
   ]
  },
  {
   "cell_type": "markdown",
   "metadata": {},
   "source": [
    "Obtenemos un arreglo con el número de días en nuestro dataset así como las fechas."
   ]
  },
  {
   "cell_type": "code",
   "execution_count": 8,
   "metadata": {},
   "outputs": [],
   "source": [
    "dias= []\n",
    "for i in range(len(españa)):\n",
    "    dias.append(i+1)\n",
    "dias_texto = np.array(dias).astype(str)\n",
    "\n",
    "fecha = np.array(dataframe['Fecha'])\n",
    "fecha = dataframe['Fecha'].astype(str)"
   ]
  },
  {
   "cell_type": "markdown",
   "metadata": {},
   "source": [
    "Esta visualización nos despliega todas las gráficas con puntos de dispersión y si pasamos el cursor sobre c/ punto, obtendremos información relevante como día desde la fecha de observaciones, número de infectados y fecha exacta."
   ]
  },
  {
   "cell_type": "code",
   "execution_count": 9,
   "metadata": {},
   "outputs": [],
   "source": [
    "fuente_españa = ColumnDataSource(data=dict(x = dias, y = españa, dias_texto= dias_texto, fecha = fecha, es_texto = es_texto))\n",
    "tooltips_españa = [(\"Día\", \"@dias_texto\"), (\"Infectados\", \"@es_texto\"),(\"Fecha\", \"@fecha\"),]\n",
    "\n",
    "p = figure(plot_width=400, plot_height=400, tooltips=tooltips_españa, title=\"Infectados en España\", x_axis_label='Días', y_axis_label='Número de infectados')\n",
    "p.scatter('x', 'y', size=8, source=fuente_españa, color='#96DBD1')\n",
    "p.background_fill_color= '#C1B595'\n",
    "\n",
    "fuente_usa = ColumnDataSource(data=dict(x = dias, y = usa, dias_texto= dias_texto, fecha = fecha, usa_texto = usa_texto))\n",
    "tooltips_usa = [(\"Día\", \"@dias_texto\"), (\"Infectados\", \"@usa_texto\"),(\"Fecha\", \"@fecha\"),]\n",
    "\n",
    "q = figure(plot_width=400, plot_height=400, tooltips=tooltips_usa, title=\"Infectados en USA\", x_axis_label='Días', y_axis_label='Número de infectados')\n",
    "q.circle('x', 'y', size=8, source=fuente_usa, color='#FEA116')\n",
    "q.background_fill_color= '#374360'\n",
    "\n",
    "fuente_brasil = ColumnDataSource(data=dict(x = dias, y = brasil, dias_texto= dias_texto, fecha = fecha, brasil_texto = brasil_texto))\n",
    "tooltips_brasil = [(\"Día\", \"@dias_texto\"), (\"Infectados\", \"@brasil_texto\"),(\"Fecha\", \"@fecha\"),]\n",
    "\n",
    "r = figure(plot_width=400, plot_height=400, tooltips=tooltips_brasil, title=\"Infectados en Brasil\", x_axis_label='Días', y_axis_label='Número de infectados')\n",
    "r.circle('x', 'y', size=8, source=fuente_brasil, color='#4A382D')\n",
    "r.background_fill_color= '#E3C33B'\n",
    "\n",
    "fuente_mexico = ColumnDataSource(data=dict(x = dias, y = mexico, dias_texto= dias_texto, fecha = fecha, mexico_texto = mexico_texto))\n",
    "tooltips_mexico = [(\"Día\", \"@dias_texto\"), (\"Infectados\", \"@mexico_texto\"),(\"Fecha\", \"@fecha\"),]\n",
    "\n",
    "s = figure(plot_width=400, plot_height=400, tooltips=tooltips_mexico, title=\"Infectados en México\", x_axis_label='Días', y_axis_label='Número de infectados')\n",
    "s.circle('x', 'y', size=8, source=fuente_mexico, color='#E4DBAD')\n",
    "s.background_fill_color= '#1B232C'\n",
    "\n",
    "fuente_global = ColumnDataSource(data=dict(x = dias, y = glob, dias_texto= dias_texto, fecha = fecha, glob_texto = glob_texto))\n",
    "tooltips_global = [(\"Día\", \"@dias_texto\"), (\"Infectados\", \"@glob_texto\"),(\"Fecha\", \"@fecha\"),]\n",
    "\n",
    "t = figure(plot_width=400, plot_height=400, tooltips=tooltips_global, title=\"Infectados a nivel global\", x_axis_label='Días', y_axis_label='Número de infectados')\n",
    "t.circle('x', 'y', size=8, source=fuente_global, color='#F78164')\n",
    "t.background_fill_color= '#6ACCCA'\n",
    "\n",
    "output_file(\"Primera Visualización con Bokeh.html\")\n",
    "show(gridplot([[p,q,r,s,t]]))"
   ]
  },
  {
   "cell_type": "markdown",
   "metadata": {},
   "source": [
    "Para esta visualización podemos obtener, por medio de una ventana desplegable que selecciona por país, la información del número de infectados la cual es representada con una línea."
   ]
  },
  {
   "cell_type": "code",
   "execution_count": 10,
   "metadata": {},
   "outputs": [],
   "source": [
    "plot1 = figure()\n",
    "plot1.line(dias, españa, line_width=3, color=\"#1D8E14\", alpha=0.5)\n",
    "plot1.background_fill_color= '#0E1F35'\n",
    "PrimeraOp = Panel(child=plot1, title=\"España\")\n",
    "\n",
    "plot2 = figure()\n",
    "plot2.line(dias, usa, line_width=3, color=\"#D13330\", alpha=0.5)\n",
    "plot2.background_fill_color= '#F5D577'\n",
    "SegundaOp = Panel(child=plot2, title=\"USA\")\n",
    "\n",
    "plot3 = figure()\n",
    "plot3.line(dias, brasil, line_width=3, color=\"#DB301A\", alpha=0.5)\n",
    "plot3.background_fill_color= '#63C486'\n",
    "TerceraOp = Panel(child=plot3, title=\"Brazil\")\n",
    "\n",
    "plot4 = figure()\n",
    "plot4.line(dias, mexico, line_width=3, color=\"#716264\", alpha=0.5)\n",
    "plot4.background_fill_color= '#FAE6C9'\n",
    "CuartaOp = Panel(child=plot4, title=\"México\")\n",
    "\n",
    "plot5 = figure()\n",
    "plot5.line(dias, glob, line_width=3, color=\"#E6CB21\", alpha=0.5)\n",
    "plot5.background_fill_color= '#6C6251'\n",
    "QuintaOp = Panel(child=plot5, title=\"Global\")\n",
    "\n",
    "plot6 = figure()\n",
    "plot6.line(dias, españa, line_width=3, color=\"#F9AB4E\", alpha=0.5)\n",
    "plot6.line(dias, usa, line_width=3, color=\"#269891\", alpha=0.5)\n",
    "plot6.line(dias, brasil, line_width=3, color=\"#12232F\", alpha=0.5)\n",
    "plot6.line(dias, mexico, line_width=3, color=\"#312035\", alpha=0.5)\n",
    "plot6.background_fill_color= '#46796F'\n",
    "SextaOp = Panel(child=plot6, title=\"Comparación\")\n",
    "\n",
    "tabs = Tabs(tabs=[PrimeraOp, SegundaOp, TerceraOp, CuartaOp, SextaOp, QuintaOp])\n",
    "\n",
    "output_file(\"Segunda Visualización Bokeh.html\")\n",
    "show(tabs)"
   ]
  },
  {
   "cell_type": "code",
   "execution_count": null,
   "metadata": {},
   "outputs": [],
   "source": []
  },
  {
   "cell_type": "code",
   "execution_count": null,
   "metadata": {},
   "outputs": [],
   "source": []
  }
 ],
 "metadata": {
  "kernelspec": {
   "display_name": "Python 3",
   "language": "python",
   "name": "python3"
  },
  "language_info": {
   "codemirror_mode": {
    "name": "ipython",
    "version": 3
   },
   "file_extension": ".py",
   "mimetype": "text/x-python",
   "name": "python",
   "nbconvert_exporter": "python",
   "pygments_lexer": "ipython3",
   "version": "3.7.6"
  }
 },
 "nbformat": 4,
 "nbformat_minor": 2
}
